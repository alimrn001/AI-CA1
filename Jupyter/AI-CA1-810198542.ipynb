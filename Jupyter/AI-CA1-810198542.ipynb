{
 "cells": [
  {
   "cell_type": "markdown",
   "id": "078b404a",
   "metadata": {},
   "source": [
    "<p style=\"text-align: center; font-size: 35px\">به نام خدا</p>\n",
    "<p style=\"text-align: center; font-size: 25px\">هوش مصنوعی</p>\n",
    "<p style=\"text-align: center; font-size: 25px\">تمرین کامپیوتری شماره 1</p>\n",
    "<p style=\"text-align: center; font-size: 25px\">علی مهرانی</p>\n",
    "<p style=\"text-align: center; font-size: 25px\">شماره دانشجویی : 810198542</p>"
   ]
  },
  {
   "cell_type": "code",
   "execution_count": null,
   "id": "6e91ca13",
   "metadata": {},
   "outputs": [],
   "source": []
  }
 ],
 "metadata": {
  "kernelspec": {
   "display_name": "Python 3 (ipykernel)",
   "language": "python",
   "name": "python3"
  },
  "language_info": {
   "codemirror_mode": {
    "name": "ipython",
    "version": 3
   },
   "file_extension": ".py",
   "mimetype": "text/x-python",
   "name": "python",
   "nbconvert_exporter": "python",
   "pygments_lexer": "ipython3",
   "version": "3.8.6"
  }
 },
 "nbformat": 4,
 "nbformat_minor": 5
}
